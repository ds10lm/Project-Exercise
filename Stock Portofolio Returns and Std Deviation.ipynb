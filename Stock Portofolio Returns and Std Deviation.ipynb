{
 "cells": [
  {
   "cell_type": "code",
   "execution_count": 1,
   "metadata": {},
   "outputs": [
    {
     "name": "stderr",
     "output_type": "stream",
     "text": [
      "C:\\Users\\USER\\Anaconda3\\envs\\py3_TF2.0\\lib\\site-packages\\pandas_datareader\\compat\\__init__.py:7: FutureWarning: pandas.util.testing is deprecated. Use the functions in the public API at pandas.testing instead.\n",
      "  from pandas.util.testing import assert_frame_equal\n"
     ]
    }
   ],
   "source": [
    "import pandas as pd\n",
    "import numpy as np\n",
    "import matplotlib.pyplot as plt\n",
    "import pandas_datareader as web\n",
    "from scipy import stats\n",
    "import seaborn as sns"
   ]
  },
  {
   "cell_type": "code",
   "execution_count": 2,
   "metadata": {},
   "outputs": [
    {
     "name": "stdout",
     "output_type": "stream",
     "text": [
      "1.0\n"
     ]
    }
   ],
   "source": [
    "total_shares = 3600\n",
    "bbri_s = (2400/total_shares)\n",
    "bbca_s = (100/total_shares)\n",
    "#cash_s = (300/total_shares)\n",
    "icbp_s = (700/total_shares)\n",
    "sido_s = (300/total_shares)\n",
    "ultj_s = (100/total_shares)\n",
    "\n",
    "tickers = ['BBRI.JK', 'BBCA.JK', 'ICBP.JK', 'SIDO.JK', 'ULTJ.JK']\n",
    "wts = [round(bbri_s,2), round(bbca_s,2), round(icbp_s,2), round(sido_s,2), round(ultj_s,2) ]\n",
    "\n",
    "print(sum(wts))"
   ]
  },
  {
   "cell_type": "code",
   "execution_count": 3,
   "metadata": {},
   "outputs": [],
   "source": [
    "price_data = web.get_data_yahoo(tickers,\n",
    "                                start = '2015-01-01',\n",
    "                                end = '2020-01-01')\n",
    "\n",
    "price_data = price_data['Adj Close']\n"
   ]
  },
  {
   "cell_type": "code",
   "execution_count": 4,
   "metadata": {},
   "outputs": [
    {
     "data": {
      "text/html": [
       "<div>\n",
       "<style scoped>\n",
       "    .dataframe tbody tr th:only-of-type {\n",
       "        vertical-align: middle;\n",
       "    }\n",
       "\n",
       "    .dataframe tbody tr th {\n",
       "        vertical-align: top;\n",
       "    }\n",
       "\n",
       "    .dataframe thead th {\n",
       "        text-align: right;\n",
       "    }\n",
       "</style>\n",
       "<table border=\"1\" class=\"dataframe\">\n",
       "  <thead>\n",
       "    <tr style=\"text-align: right;\">\n",
       "      <th>Symbols</th>\n",
       "      <th>BBRI.JK</th>\n",
       "      <th>BBCA.JK</th>\n",
       "      <th>ICBP.JK</th>\n",
       "      <th>SIDO.JK</th>\n",
       "      <th>ULTJ.JK</th>\n",
       "    </tr>\n",
       "    <tr>\n",
       "      <th>Date</th>\n",
       "      <th></th>\n",
       "      <th></th>\n",
       "      <th></th>\n",
       "      <th></th>\n",
       "      <th></th>\n",
       "    </tr>\n",
       "  </thead>\n",
       "  <tbody>\n",
       "    <tr>\n",
       "      <th>2015-01-05</th>\n",
       "      <td>-0.004292</td>\n",
       "      <td>-0.001890</td>\n",
       "      <td>0.000000</td>\n",
       "      <td>0.000000</td>\n",
       "      <td>-0.004032</td>\n",
       "    </tr>\n",
       "    <tr>\n",
       "      <th>2015-01-06</th>\n",
       "      <td>-0.006465</td>\n",
       "      <td>-0.007576</td>\n",
       "      <td>-0.022813</td>\n",
       "      <td>-0.008197</td>\n",
       "      <td>0.025641</td>\n",
       "    </tr>\n",
       "    <tr>\n",
       "      <th>2015-01-07</th>\n",
       "      <td>0.021692</td>\n",
       "      <td>0.001908</td>\n",
       "      <td>0.011673</td>\n",
       "      <td>0.024793</td>\n",
       "      <td>0.006579</td>\n",
       "    </tr>\n",
       "    <tr>\n",
       "      <th>2015-01-08</th>\n",
       "      <td>0.016985</td>\n",
       "      <td>-0.011429</td>\n",
       "      <td>0.000000</td>\n",
       "      <td>-0.016129</td>\n",
       "      <td>0.091503</td>\n",
       "    </tr>\n",
       "    <tr>\n",
       "      <th>2015-01-09</th>\n",
       "      <td>0.004175</td>\n",
       "      <td>-0.003854</td>\n",
       "      <td>-0.003846</td>\n",
       "      <td>0.000000</td>\n",
       "      <td>-0.017964</td>\n",
       "    </tr>\n",
       "  </tbody>\n",
       "</table>\n",
       "</div>"
      ],
      "text/plain": [
       "Symbols      BBRI.JK   BBCA.JK   ICBP.JK   SIDO.JK   ULTJ.JK\n",
       "Date                                                        \n",
       "2015-01-05 -0.004292 -0.001890  0.000000  0.000000 -0.004032\n",
       "2015-01-06 -0.006465 -0.007576 -0.022813 -0.008197  0.025641\n",
       "2015-01-07  0.021692  0.001908  0.011673  0.024793  0.006579\n",
       "2015-01-08  0.016985 -0.011429  0.000000 -0.016129  0.091503\n",
       "2015-01-09  0.004175 -0.003854 -0.003846  0.000000 -0.017964"
      ]
     },
     "execution_count": 4,
     "metadata": {},
     "output_type": "execute_result"
    }
   ],
   "source": [
    "ret_data = price_data.pct_change()[1:]\n",
    "ret_data.head()"
   ]
  },
  {
   "cell_type": "markdown",
   "metadata": {},
   "source": [
    "### Calculate weighted return of our assets"
   ]
  },
  {
   "cell_type": "code",
   "execution_count": 6,
   "metadata": {},
   "outputs": [
    {
     "data": {
      "text/html": [
       "<div>\n",
       "<style scoped>\n",
       "    .dataframe tbody tr th:only-of-type {\n",
       "        vertical-align: middle;\n",
       "    }\n",
       "\n",
       "    .dataframe tbody tr th {\n",
       "        vertical-align: top;\n",
       "    }\n",
       "\n",
       "    .dataframe thead th {\n",
       "        text-align: right;\n",
       "    }\n",
       "</style>\n",
       "<table border=\"1\" class=\"dataframe\">\n",
       "  <thead>\n",
       "    <tr style=\"text-align: right;\">\n",
       "      <th>Symbols</th>\n",
       "      <th>BBRI.JK</th>\n",
       "      <th>BBCA.JK</th>\n",
       "      <th>ICBP.JK</th>\n",
       "      <th>SIDO.JK</th>\n",
       "      <th>ULTJ.JK</th>\n",
       "    </tr>\n",
       "    <tr>\n",
       "      <th>Date</th>\n",
       "      <th></th>\n",
       "      <th></th>\n",
       "      <th></th>\n",
       "      <th></th>\n",
       "      <th></th>\n",
       "    </tr>\n",
       "  </thead>\n",
       "  <tbody>\n",
       "    <tr>\n",
       "      <th>2015-01-05</th>\n",
       "      <td>-0.002876</td>\n",
       "      <td>-0.000057</td>\n",
       "      <td>0.000000</td>\n",
       "      <td>0.000000</td>\n",
       "      <td>-0.000121</td>\n",
       "    </tr>\n",
       "    <tr>\n",
       "      <th>2015-01-06</th>\n",
       "      <td>-0.004332</td>\n",
       "      <td>-0.000227</td>\n",
       "      <td>-0.004335</td>\n",
       "      <td>-0.000656</td>\n",
       "      <td>0.000769</td>\n",
       "    </tr>\n",
       "    <tr>\n",
       "      <th>2015-01-07</th>\n",
       "      <td>0.014534</td>\n",
       "      <td>0.000057</td>\n",
       "      <td>0.002218</td>\n",
       "      <td>0.001983</td>\n",
       "      <td>0.000197</td>\n",
       "    </tr>\n",
       "    <tr>\n",
       "      <th>2015-01-08</th>\n",
       "      <td>0.011380</td>\n",
       "      <td>-0.000343</td>\n",
       "      <td>0.000000</td>\n",
       "      <td>-0.001290</td>\n",
       "      <td>0.002745</td>\n",
       "    </tr>\n",
       "    <tr>\n",
       "      <th>2015-01-09</th>\n",
       "      <td>0.002797</td>\n",
       "      <td>-0.000116</td>\n",
       "      <td>-0.000731</td>\n",
       "      <td>0.000000</td>\n",
       "      <td>-0.000539</td>\n",
       "    </tr>\n",
       "  </tbody>\n",
       "</table>\n",
       "</div>"
      ],
      "text/plain": [
       "Symbols      BBRI.JK   BBCA.JK   ICBP.JK   SIDO.JK   ULTJ.JK\n",
       "Date                                                        \n",
       "2015-01-05 -0.002876 -0.000057  0.000000  0.000000 -0.000121\n",
       "2015-01-06 -0.004332 -0.000227 -0.004335 -0.000656  0.000769\n",
       "2015-01-07  0.014534  0.000057  0.002218  0.001983  0.000197\n",
       "2015-01-08  0.011380 -0.000343  0.000000 -0.001290  0.002745\n",
       "2015-01-09  0.002797 -0.000116 -0.000731  0.000000 -0.000539"
      ]
     },
     "execution_count": 6,
     "metadata": {},
     "output_type": "execute_result"
    }
   ],
   "source": [
    "weighted_returns = (wts * ret_data)\n",
    "weighted_returns.head()"
   ]
  },
  {
   "cell_type": "code",
   "execution_count": 7,
   "metadata": {},
   "outputs": [],
   "source": [
    "port_ret = weighted_returns.sum(axis=1)\n",
    "# axis =1 tells pandas we want to add the rows"
   ]
  },
  {
   "cell_type": "code",
   "execution_count": 8,
   "metadata": {},
   "outputs": [
    {
     "data": {
      "image/png": "[encoded data removed]",
      "text/plain": [
       "<Figure size 432x288 with 1 Axes>"
      ]
     },
     "metadata": {
      "needs_background": "light"
     },
     "output_type": "display_data"
    }
   ],
   "source": [
    "fig = plt.figure()\n",
    "ax1 = fig.add_axes([0.1,0.1,0.8,0.8])\n",
    "ax1.hist(port_ret, bins = 60)\n",
    "ax1.set_xlabel('Portfolio returns')\n",
    "ax1.set_ylabel(\"Freq\")\n",
    "ax1.set_title(\"Portfolio Returns calculated manually\")\n",
    "plt.show()"
   ]
  },
  {
   "cell_type": "markdown",
   "metadata": {},
   "source": [
    "### Portofolio mean and Standard Deviation"
   ]
  },
  {
   "cell_type": "code",
   "execution_count": 9,
   "metadata": {},
   "outputs": [],
   "source": [
    "mean_ret = port_ret.mean()\n",
    "std_returns = port_ret.std()"
   ]
  },
  {
   "cell_type": "code",
   "execution_count": 10,
   "metadata": {},
   "outputs": [
    {
     "data": {
      "text/plain": [
       "0.0009826964985563292"
      ]
     },
     "execution_count": 10,
     "metadata": {},
     "output_type": "execute_result"
    }
   ],
   "source": [
    "mean_ret"
   ]
  },
  {
   "cell_type": "code",
   "execution_count": 11,
   "metadata": {},
   "outputs": [
    {
     "data": {
      "text/plain": [
       "0.014942700350936502"
      ]
     },
     "execution_count": 11,
     "metadata": {},
     "output_type": "execute_result"
    }
   ],
   "source": [
    "std_returns"
   ]
  },
  {
   "cell_type": "code",
   "execution_count": null,
   "metadata": {},
   "outputs": [],
   "source": []
  }
 ],
 "metadata": {
  "kernelspec": {
   "display_name": "Python [conda env:py3_TF2.0]",
   "language": "python",
   "name": "conda-env-py3_TF2.0-py"
  },
  "language_info": {
   "codemirror_mode": {
    "name": "ipython",
    "version": 3
   },
   "file_extension": ".py",
   "mimetype": "text/x-python",
   "name": "python",
   "nbconvert_exporter": "python",
   "pygments_lexer": "ipython3",
   "version": "3.7.7"
  }
 },
 "nbformat": 4,
 "nbformat_minor": 2
}
